{
 "cells": [
  {
   "cell_type": "markdown",
   "id": "ad0e4658",
   "metadata": {},
   "source": [
    "## Analysis of the workflow lifetime and their distribution in each status\n",
    "This notebook is used to parse workflows from ReqMgr2 and properly understand their lifetime and time distribution according to their statuses."
   ]
  },
  {
   "cell_type": "code",
   "execution_count": 2,
   "id": "56f89c17",
   "metadata": {},
   "outputs": [],
   "source": [
    "import os\n",
    "import sys\n",
    "import requests\n",
    "import json\n",
    "import statistics\n",
    "from pprint import pprint\n",
    "from tabulate import tabulate\n",
    "\n",
    "myCert = \"/Users/amaltar2/Devel/DockerWMCore/certs/servicecert.pem\"\n",
    "myKey = \"/Users/amaltar2/Devel/DockerWMCore/certs/servicekey.pem\""
   ]
  },
  {
   "cell_type": "markdown",
   "id": "678dd59d",
   "metadata": {},
   "source": [
    "### Fetch workflows from ReqMgr2"
   ]
  },
  {
   "cell_type": "code",
   "execution_count": 25,
   "id": "85c2530d",
   "metadata": {
    "collapsed": true
   },
   "outputs": [
    {
     "name": "stdout",
     "output_type": "stream",
     "text": [
      "[{'cmsunified_task_PPD-Run3Winter23Digi-00030__v1_T_230609_094934_6689': {'_id': 'cmsunified_task_PPD-Run3Winter23Digi-00030__v1_T_230609_094934_6689', 'Group': 'DATAOPS', 'Requestor': 'cmsunified', 'ProcessingString': {'PPD-Run3Winter23Digi-00030_0': 'FlatPU0to80GTv4BTag_126X_mcRun3_2023_forPU65_forBTag_v1', 'PPD-Run3Winter23Reco-00030_0': 'FlatPU0to80GTv4BTag_GTv4BTag_126X_mcRun3_2023_forPU65_forBTag_v1', 'PPD-Run3Winter23MiniAOD-00026_0': 'FlatPU0to80GTv4BTag_GTv4BTag_MiniGTv4BTag_126X_mcRun3_2023_forPU65_forBTag_v1', 'PPD-Run3Winter23NanoAOD-00026_0': 'FlatPU0to80GTv4BTag_GTv4BTag_MiniGTv4BTag_NanoGTv4BTag_126X_mcRun3_2023_forPU65_forBTag_v1'}, 'ScramArch': ['el8_amd64_gcc10'], 'SizePerEvent': 1930.782, 'Memory': 7900, 'PrepID': 'task_PPD-Run3Winter23Digi-00030', 'RequestType': 'StepChain', 'TimePerEvent': 37.3402, 'AcquisitionEra': {'PPD-Run3Winter23Digi-00030_0': 'Run3Winter23Digi', 'PPD-Run3Winter23Reco-00030_0': 'Run3Winter23Reco', 'PPD-Run3Winter23MiniAOD-00026_0': 'Run3Winter23MiniAOD', 'PPD-Run3Winter23NanoAOD-00026_0': 'Run3Winter23NanoAOD'}, 'CMSSWVersion': 'CMSSW_12_6_4', 'RequestPriority': 110000, 'ProcessingVersion': 2, 'SubRequestType': 'ReDigi', 'RequestString': 'task_PPD-Run3Winter23Digi-00030__v1_T', 'Campaign': 'Run3Winter23Digi', 'GlobalTag': '126X_mcRun3_2023_forPU65_forBTag_v1', 'DbsUrl': 'https://cmsweb-prod.cern.ch/dbs/prod/global/DBSReader', 'Multicore': 4, 'ConfigCacheUrl': 'https://cmsweb.cern.ch/couchdb', 'RequestorDN': '/DC=ch/DC=cern/OU=computers/CN=unified/vocms0268.cern.ch', 'RequestDate': [2023, 6, 9, 9, 49, 34], 'PriorityTransition': [{'Priority': 110000, 'UpdateTime': 1686304174, 'DN': '/DC=ch/DC=cern/OU=computers/CN=unified/vocms0268.cern.ch'}], 'CouchURL': 'https://cmsweb.cern.ch/couchdb', 'CouchDBName': 'reqmgr_config_cache', 'ConfigCacheID': None, 'OpenRunningTimeout': 0, 'GlobalTagConnect': None, 'LumiList': {}, 'DashboardHost': 'cms-jobmon.cern.ch', 'DashboardPort': 8884, 'PeriodicHarvestInterval': 0, 'DQMHarvestUnit': 'byRun', 'DQMUploadProxy': None, 'DQMUploadUrl': 'https://cmsweb.cern.ch/dqm/dev', 'DQMSequences': [], 'DQMConfigCacheID': None, 'EnableHarvesting': False, 'EnableNewStageout': False, 'IncludeParents': False, 'VoGroup': 'unknown', 'VoRole': 'unknown', 'ValidStatus': 'PRODUCTION', 'OverrideCatalog': None, 'RunNumber': 0, 'RobustMerge': True, 'Comments': '', 'GPUParams': 'null', 'MaxWaitTime': 86400, 'EventStreams': 0, 'MergedLFNBase': '/store/mc', 'UnmergedLFNBase': '/store/unmerged', 'DeleteFromSource': False, 'ChainParentageMap': {'Step1': {'ParentDset': '/SingleKLongGun_Pt-0To50/Run3Winter23GS-126X_mcRun3_2023_forPU65_v1-v2/GEN-SIM', 'ChildDsets': ['/SingleKLongGun_Pt-0To50/Run3Winter23Digi-FlatPU0to80GTv4BTag_126X_mcRun3_2023_forPU65_forBTag_v1-v2/GEN-SIM-RAW']}, 'Step2': {'ParentDset': '/SingleKLongGun_Pt-0To50/Run3Winter23Digi-FlatPU0to80GTv4BTag_126X_mcRun3_2023_forPU65_forBTag_v1-v2/GEN-SIM-RAW', 'ChildDsets': ['/SingleKLongGun_Pt-0To50/Run3Winter23Reco-FlatPU0to80GTv4BTag_GTv4BTag_126X_mcRun3_2023_forPU65_forBTag_v1-v2/AODSIM', '/SingleKLongGun_Pt-0To50/Run3Winter23Reco-FlatPU0to80GTv4BTag_GTv4BTag_126X_mcRun3_2023_forPU65_forBTag_v1-v2/GEN-SIM-RECO']}, 'Step3': {'ParentDset': '/SingleKLongGun_Pt-0To50/Run3Winter23Reco-FlatPU0to80GTv4BTag_GTv4BTag_126X_mcRun3_2023_forPU65_forBTag_v1-v2/AODSIM', 'ChildDsets': ['/SingleKLongGun_Pt-0To50/Run3Winter23MiniAOD-FlatPU0to80GTv4BTag_GTv4BTag_MiniGTv4BTag_126X_mcRun3_2023_forPU65_forBTag_v1-v2/MINIAODSIM']}, 'Step4': {'ParentDset': '/SingleKLongGun_Pt-0To50/Run3Winter23MiniAOD-FlatPU0to80GTv4BTag_GTv4BTag_MiniGTv4BTag_126X_mcRun3_2023_forPU65_forBTag_v1-v2/MINIAODSIM', 'ChildDsets': ['/SingleKLongGun_Pt-0To50/Run3Winter23NanoAOD-FlatPU0to80GTv4BTag_GTv4BTag_MiniGTv4BTag_NanoGTv4BTag_126X_mcRun3_2023_forPU65_forBTag_v1-v2/NANOAODSIM']}}, 'FirstEvent': 1, 'FirstLumi': 1, 'StepChain': 4, 'Step1': {'InputDataset': '/SingleKLongGun_Pt-0To50/Run3Winter23GS-126X_mcRun3_2023_forPU65_v1-v2/GEN-SIM', 'KeepOutput': True, 'MCPileup': '/MinBias_TuneCP5_13p6TeV-pythia8/Run3Winter23GS-126X_mcRun3_2023_forPU65_v1-v1/GEN-SIM', 'PrepID': 'PPD-Run3Winter23Digi-00030', 'GlobalTag': '126X_mcRun3_2023_forPU65_forBTag_v1', 'Campaign': 'Run3Winter23Digi', 'FilterEfficiency': 1, 'SplittingAlgo': 'EventAwareLumiBased', 'ProcessingString': 'FlatPU0to80GTv4BTag_126X_mcRun3_2023_forPU65_forBTag_v1', 'ScramArch': ['el8_amd64_gcc10'], 'ConfigCacheID': 'c68250d3a898562fa1267b964bd5f2ba', 'AcquisitionEra': 'Run3Winter23Digi', 'PrimaryDataset': 'SingleKLongGun_Pt-0To50', 'CMSSWVersion': 'CMSSW_12_6_4', 'EventsPerLumi': 771, 'StepName': 'PPD-Run3Winter23Digi-00030_0', 'EventsPerJob': 771}, 'Step2': {'KeepOutput': True, 'PrepID': 'PPD-Run3Winter23Reco-00030', 'Campaign': 'Run3Winter23Reco', 'InputFromOutputModule': 'RAWSIMoutput', 'ProcessingString': 'FlatPU0to80GTv4BTag_GTv4BTag_126X_mcRun3_2023_forPU65_forBTag_v1', 'FilterEfficiency': 1, 'SplittingAlgo': 'EventAwareLumiBased', 'ScramArch': ['el8_amd64_gcc10'], 'ConfigCacheID': 'bd4ca29c997f9c4c086c7b48c4e0ec68', 'AcquisitionEra': 'Run3Winter23Reco', 'PrimaryDataset': 'SingleKLongGun_Pt-0To50', 'GlobalTag': '126X_mcRun3_2023_forPU65_forBTag_v1', 'CMSSWVersion': 'CMSSW_12_6_4', 'StepName': 'PPD-Run3Winter23Reco-00030_0', 'InputStep': 'PPD-Run3Winter23Digi-00030_0'}, 'Step3': {'KeepOutput': True, 'PrepID': 'PPD-Run3Winter23MiniAOD-00026', 'Campaign': 'Run3Winter23MiniAOD', 'InputFromOutputModule': 'AODSIMoutput', 'ProcessingString': 'FlatPU0to80GTv4BTag_GTv4BTag_MiniGTv4BTag_126X_mcRun3_2023_forPU65_forBTag_v1', 'FilterEfficiency': 1, 'SplittingAlgo': 'EventAwareLumiBased', 'ScramArch': ['el8_amd64_gcc10'], 'ConfigCacheID': 'bd4ca29c997f9c4c086c7b48c4e23b2a', 'AcquisitionEra': 'Run3Winter23MiniAOD', 'PrimaryDataset': 'SingleKLongGun_Pt-0To50', 'GlobalTag': '126X_mcRun3_2023_forPU65_forBTag_v1', 'CMSSWVersion': 'CMSSW_12_6_4', 'StepName': 'PPD-Run3Winter23MiniAOD-00026_0', 'InputStep': 'PPD-Run3Winter23Reco-00030_0'}, 'Step4': {'KeepOutput': True, 'PrepID': 'PPD-Run3Winter23NanoAOD-00026', 'Campaign': 'Run3Winter23NanoAOD', 'InputFromOutputModule': 'MINIAODSIMoutput', 'ProcessingString': 'FlatPU0to80GTv4BTag_GTv4BTag_MiniGTv4BTag_NanoGTv4BTag_126X_mcRun3_2023_forPU65_forBTag_v1', 'FilterEfficiency': 1, 'SplittingAlgo': 'EventAwareLumiBased', 'ScramArch': ['el8_amd64_gcc10'], 'ConfigCacheID': 'bd4ca29c997f9c4c086c7b48c4e24a5c', 'AcquisitionEra': 'Run3Winter23NanoAOD', 'PrimaryDataset': 'SingleKLongGun_Pt-0To50', 'GlobalTag': '126X_mcRun3_2023_forPU65_forBTag_v1', 'CMSSWVersion': 'CMSSW_12_6_4', 'StepName': 'PPD-Run3Winter23NanoAOD-00026_0', 'InputStep': 'PPD-Run3Winter23MiniAOD-00026_0'}, 'RequestStatus': 'running-closed', 'RequestTransition': [{'Status': 'new', 'UpdateTime': 1686304174, 'DN': '/DC=ch/DC=cern/OU=computers/CN=unified/vocms0268.cern.ch'}, {'UpdateTime': 1686304184, 'DN': '/DC=ch/DC=cern/OU=computers/CN=unified/vocms0268.cern.ch', 'Status': 'assignment-approved'}, {'UpdateTime': 1686305536, 'DN': '/DC=ch/DC=cern/OU=computers/CN=unified/vocms0268.cern.ch', 'Status': 'assigned'}, {'UpdateTime': 1686305680, 'DN': '/DC=ch/DC=cern/OU=Organic Units/OU=Users/CN=cmswebmg/CN=852819/CN=Robot: Service account for CMSWeb migration', 'Status': 'staging'}, {'UpdateTime': 1686309250, 'DN': '/DC=ch/DC=cern/OU=Organic Units/OU=Users/CN=cmswebmg/CN=852819/CN=Robot: Service account for CMSWeb migration', 'Status': 'staged'}, {'UpdateTime': 1686310122, 'DN': '/DC=ch/DC=cern/OU=Organic Units/OU=Users/CN=cmswebmg/CN=852819/CN=Robot: Service account for CMSWeb migration', 'Status': 'acquired'}, {'UpdateTime': 1686310757, 'DN': '/DC=ch/DC=cern/OU=Organic Units/OU=Users/CN=cmswebmg/CN=852819/CN=Robot: Service account for CMSWeb migration', 'Status': 'running-open'}, {'UpdateTime': 1686312582, 'DN': '/DC=ch/DC=cern/OU=Organic Units/OU=Users/CN=cmswebmg/CN=852819/CN=Robot: Service account for CMSWeb migration', 'Status': 'running-closed'}], 'CouchWorkloadDBName': 'reqmgr_workload_cache', 'RequestName': 'cmsunified_task_PPD-Run3Winter23Digi-00030__v1_T_230609_094934_6689', 'RequiresGPU': None, 'MinMergeSize': 2147483648, 'MaxMergeSize': 4294967296, 'MaxMergeEvents': 20000000, 'DeterministicPileup': False, 'PrimaryDataset': None, 'ParentageResolved': False, 'RequestWorkflow': 'https://cmsweb.cern.ch/couchdb/reqmgr_workload_cache/cmsunified_task_PPD-Run3Winter23Digi-00030__v1_T_230609_094934_6689/spec', 'OutputDatasets': ['/SingleKLongGun_Pt-0To50/Run3Winter23Digi-FlatPU0to80GTv4BTag_126X_mcRun3_2023_forPU65_forBTag_v1-v2/GEN-SIM-RAW', '/SingleKLongGun_Pt-0To50/Run3Winter23MiniAOD-FlatPU0to80GTv4BTag_GTv4BTag_MiniGTv4BTag_126X_mcRun3_2023_forPU65_forBTag_v1-v2/MINIAODSIM', '/SingleKLongGun_Pt-0To50/Run3Winter23NanoAOD-FlatPU0to80GTv4BTag_GTv4BTag_MiniGTv4BTag_NanoGTv4BTag_126X_mcRun3_2023_forPU65_forBTag_v1-v2/NANOAODSIM', '/SingleKLongGun_Pt-0To50/Run3Winter23Reco-FlatPU0to80GTv4BTag_GTv4BTag_126X_mcRun3_2023_forPU65_forBTag_v1-v2/AODSIM', '/SingleKLongGun_Pt-0To50/Run3Winter23Reco-FlatPU0to80GTv4BTag_GTv4BTag_126X_mcRun3_2023_forPU65_forBTag_v1-v2/GEN-SIM-RECO'], 'InitialPriority': 110000, 'SiteBlacklist': ['T1_ES_PIC', 'T1_FR_CCIN2P3', 'T2_CN_Beijing', 'T2_DE_RWTH', 'T2_FR_IPHC', 'T2_KR_KISTI', 'T2_PT_NCG_Lisbon', 'T2_RU_IHEP', 'T2_UK_SGrid_RALPP', 'T2_TR_METU', 'T2_FI_HIP', 'T2_RU_INR'], 'TrustSitelists': False, 'TrustPUSitelists': False, 'BlockCloseMaxEvents': 200000000, 'BlockCloseMaxWaitTime': 172800, 'Dashboard': 'reprocessing', 'SoftTimeout': 159600, 'GracePeriod': 300, 'CustodialSites': [], 'NonCustodialSites': ['T2_CH_CERN'], 'SiteWhitelist': ['T2_CH_CERN_P5', 'T2_CH_CERN', 'T2_CH_CERN_HLT'], 'Team': 'production', 'HardTimeout': 159900, 'SubscriptionPriority': 'Low', 'AllowOpportunistic': False, 'BlockCloseMaxFiles': 500, 'BlockCloseMaxSize': 5000000000000, 'Override': {'eos-lfn-prefix': 'root://eoscms.cern.ch//eos/cms/store/logs/prod/recent/PRODUCTION'}, 'DatasetLifetime': 0, 'OutputModulesLFNBases': ['/store/unmerged/Run3Winter23Reco/SingleKLongGun_Pt-0To50/AODSIM/FlatPU0to80GTv4BTag_GTv4BTag_126X_mcRun3_2023_forPU65_forBTag_v1-v2', '/store/unmerged/Run3Winter23Reco/SingleKLongGun_Pt-0To50/GEN-SIM-RECO/FlatPU0to80GTv4BTag_GTv4BTag_126X_mcRun3_2023_forPU65_forBTag_v1-v2', '/store/unmerged/Run3Winter23MiniAOD/SingleKLongGun_Pt-0To50/MINIAODSIM/FlatPU0to80GTv4BTag_GTv4BTag_MiniGTv4BTag_126X_mcRun3_2023_forPU65_forBTag_v1-v2', '/store/unmerged/Run3Winter23Digi/SingleKLongGun_Pt-0To50/GEN-SIM-RAW/FlatPU0to80GTv4BTag_126X_mcRun3_2023_forPU65_forBTag_v1-v2', '/store/unmerged/Run3Winter23NanoAOD/SingleKLongGun_Pt-0To50/NANOAODSIM/FlatPU0to80GTv4BTag_GTv4BTag_MiniGTv4BTag_NanoGTv4BTag_126X_mcRun3_2023_forPU65_forBTag_v1-v2'], 'TotalEstimatedJobs': 12971, 'TotalInputEvents': 10000000, 'TotalInputLumis': 13004, 'TotalInputFiles': 40}}]\n"
     ]
    },
    {
     "name": "stderr",
     "output_type": "stream",
     "text": [
      "/Users/amaltar2/.virtualenvs/py3.10/lib/python3.10/site-packages/urllib3/connectionpool.py:1045: InsecureRequestWarning: Unverified HTTPS request is being made to host 'cmsweb.cern.ch'. Adding certificate verification is strongly advised. See: https://urllib3.readthedocs.io/en/1.26.x/advanced-usage.html#ssl-warnings\n",
      "  warnings.warn(\n"
     ]
    }
   ],
   "source": [
    "headers = {\"Content-type\": \"application/json\", \"Accept\": \"application/json\"}\n",
    "reqmgrUrl = \"https://cmsweb.cern.ch/reqmgr2/data/request\"\n",
    "params = {\"name\": \"cmsunified_task_PPD-Run3Winter23Digi-00030__v1_T_230609_094934_6689\"}\n",
    "data = requests.get(reqmgrUrl, params=params, headers=headers, cert=(myCert, myKey), verify=False)\n",
    "if data.ok is True:\n",
    "    data = data.json()['result']"
   ]
  },
  {
   "cell_type": "markdown",
   "id": "ca625f9f",
   "metadata": {},
   "source": [
    "### OR, fetch workflows directly from CouchDB - including archived workflows"
   ]
  },
  {
   "cell_type": "code",
   "execution_count": 47,
   "id": "775ead16",
   "metadata": {},
   "outputs": [
    {
     "name": "stderr",
     "output_type": "stream",
     "text": [
      "/Users/amaltar2/.virtualenvs/py3.10/lib/python3.10/site-packages/urllib3/connectionpool.py:1045: InsecureRequestWarning: Unverified HTTPS request is being made to host 'cmsweb.cern.ch'. Adding certificate verification is strongly advised. See: https://urllib3.readthedocs.io/en/1.26.x/advanced-usage.html#ssl-warnings\n",
      "  warnings.warn(\n"
     ]
    },
    {
     "name": "stdout",
     "output_type": "stream",
     "text": [
      "<Response [200]>\n",
      "Total number of workflows: 236810\n"
     ]
    }
   ],
   "source": [
    "%%time\n",
    "couchUrl = \"https://cmsweb.cern.ch/couchdb/reqmgr_workload_cache/_design/ReqMgr/_view/bydate\"\n",
    "queryParams = {\"startkey\": \"[2022,4,1]\", \"endkey\": \"[2023,4,1]\", \"include_docs\": True}\n",
    "data = requests.get(couchUrl, params=queryParams, headers=headers, cert=(myCert, myKey), verify=False)\n",
    "print(data)\n",
    "if data.ok is True:\n",
    "    data = data.json()['rows']\n",
    "print(f\"Total number of workflows: {len(data)}\")"
   ]
  },
  {
   "cell_type": "markdown",
   "id": "78a285eb",
   "metadata": {},
   "source": [
    "### save this workflow data in a json to avoid this heavy query against CouchDB"
   ]
  },
  {
   "cell_type": "code",
   "execution_count": 48,
   "id": "ff1b7a48",
   "metadata": {},
   "outputs": [],
   "source": [
    "with open(\"workflow_dump.json\", \"w\") as fo:\n",
    "    json.dump(data, fo, indent=2)"
   ]
  },
  {
   "cell_type": "code",
   "execution_count": 3,
   "id": "509cfd32",
   "metadata": {},
   "outputs": [
    {
     "name": "stdout",
     "output_type": "stream",
     "text": [
      "Loaded a total of 236810 workflows.\n"
     ]
    }
   ],
   "source": [
    "with open(\"workflow_dump.json\", \"r\") as fo:\n",
    "    data = json.load(fo)\n",
    "print(f\"Loaded a total of {len(data)} workflows.\")"
   ]
  },
  {
   "cell_type": "markdown",
   "id": "25badf99",
   "metadata": {},
   "source": [
    "## Parse each document creating a timeline per campaign"
   ]
  },
  {
   "cell_type": "code",
   "execution_count": 4,
   "id": "b0a16cf6",
   "metadata": {},
   "outputs": [
    {
     "name": "stdout",
     "output_type": "stream",
     "text": [
      "CPU times: user 1.17 s, sys: 1.37 s, total: 2.54 s\n",
      "Wall time: 3 s\n"
     ]
    }
   ],
   "source": [
    "%%time\n",
    "normal_wfs = []\n",
    "rejected_wfs = []\n",
    "aborted_wfs = []\n",
    "others_wfs = []\n",
    "for wflow in data:\n",
    "    summary = {}\n",
    "    summary[\"RequestName\"] = wflow[\"doc\"][\"RequestName\"]\n",
    "    summary[\"RequestType\"] = wflow[\"doc\"][\"RequestType\"]\n",
    "    summary[\"RequestStatus\"] = wflow[\"doc\"][\"RequestStatus\"]\n",
    "    summary[\"Campaign\"] = wflow[\"doc\"][\"Campaign\"]\n",
    "    summary[\"StatusDuration\"] = []\n",
    "    summary[\"Wallclocktime\"] = 0\n",
    "    ## then parse status transition\n",
    "    totalTransitions = len(wflow[\"doc\"][\"RequestTransition\"])\n",
    "    for idx, item in enumerate(wflow[\"doc\"][\"RequestTransition\"]):\n",
    "        if item[\"Status\"] in (\"normal-archived\", \"rejected-archived\", \"aborted-archived\"):\n",
    "            # then we are in the last transition (theoretically), grab the total workflow wallclocktime\n",
    "            summary[\"Wallclocktime\"] = item[\"UpdateTime\"] - wflow[\"doc\"][\"RequestTransition\"][0][\"UpdateTime\"]\n",
    "        elif idx < totalTransitions - 1:\n",
    "            # intermediate transitions, use the next step to calculate time duration\n",
    "            thisTransition = {\"Status\": item[\"Status\"]}\n",
    "            thisTransition[\"DurationSecs\"] = wflow[\"doc\"][\"RequestTransition\"][idx + 1][\"UpdateTime\"] - item[\"UpdateTime\"]\n",
    "        summary[\"StatusDuration\"].append(thisTransition)\n",
    "\n",
    "    # now classify this workflow according to its current status\n",
    "    if summary[\"RequestStatus\"] == \"normal-archived\":\n",
    "        normal_wfs.append(summary)\n",
    "    elif summary[\"RequestStatus\"] == \"rejected-archived\":\n",
    "        rejected_wfs.append(summary)  \n",
    "    elif summary[\"RequestStatus\"] == \"aborted-archived\":\n",
    "        aborted_wfs.append(summary)  \n",
    "    else:\n",
    "        others_wfs.append(summary)  "
   ]
  },
  {
   "cell_type": "markdown",
   "id": "f047f4eb",
   "metadata": {},
   "source": [
    "## Print number of workflows in each status"
   ]
  },
  {
   "cell_type": "code",
   "execution_count": 5,
   "id": "ba0b6713",
   "metadata": {},
   "outputs": [
    {
     "name": "stdout",
     "output_type": "stream",
     "text": [
      "╒═════════════════════╤═════════════════╕\n",
      "│ status              │   num workflows │\n",
      "╞═════════════════════╪═════════════════╡\n",
      "│ normal-archived     │          152237 │\n",
      "├─────────────────────┼─────────────────┤\n",
      "│ rejected-archived   │           66055 │\n",
      "├─────────────────────┼─────────────────┤\n",
      "│ aborted-archived    │           15996 │\n",
      "├─────────────────────┼─────────────────┤\n",
      "│ announced           │            1719 │\n",
      "├─────────────────────┼─────────────────┤\n",
      "│ completed           │             239 │\n",
      "├─────────────────────┼─────────────────┤\n",
      "│ new                 │             370 │\n",
      "├─────────────────────┼─────────────────┤\n",
      "│ assignment-approved │              59 │\n",
      "├─────────────────────┼─────────────────┤\n",
      "│ failed              │             102 │\n",
      "├─────────────────────┼─────────────────┤\n",
      "│ staging             │               6 │\n",
      "├─────────────────────┼─────────────────┤\n",
      "│ acquired            │              11 │\n",
      "├─────────────────────┼─────────────────┤\n",
      "│ aborted             │               1 │\n",
      "├─────────────────────┼─────────────────┤\n",
      "│ running-closed      │               9 │\n",
      "├─────────────────────┼─────────────────┤\n",
      "│ running-open        │               6 │\n",
      "├─────────────────────┼─────────────────┤\n",
      "│ TOTAL               │          236810 │\n",
      "╘═════════════════════╧═════════════════╛\n"
     ]
    }
   ],
   "source": [
    "# while this object will contain final stats for workflows in a given status\n",
    "columnNames = [\"status\", \"num workflows\"]\n",
    "wflowStats = []\n",
    "wflowStats.append([\"normal-archived\", len(normal_wfs)])\n",
    "wflowStats.append([\"rejected-archived\", len(rejected_wfs)])\n",
    "wflowStats.append([\"aborted-archived\", len(aborted_wfs)])\n",
    "# now get numbers for the other statuses\n",
    "dictStatuses = {}\n",
    "for wflow in others_wfs:\n",
    "    dictStatuses.setdefault(wflow[\"RequestStatus\"], 0)\n",
    "    dictStatuses[wflow[\"RequestStatus\"]] += 1\n",
    "    \n",
    "for status, wflowCount in dictStatuses.items():\n",
    "    wflowStats.append([status, wflowCount])\n",
    "\n",
    "wflowStats.append([\"TOTAL\", len(normal_wfs) + len(rejected_wfs) + len(aborted_wfs) + len(others_wfs)])\n",
    "\n",
    "#pprint(wflowStats)\n",
    "print(tabulate(wflowStats, headers=columnNames, tablefmt=\"fancy_grid\"))"
   ]
  },
  {
   "cell_type": "markdown",
   "id": "d731d140",
   "metadata": {},
   "source": [
    "## Get stats for archived workflows (mean, median, stddev)"
   ]
  },
  {
   "cell_type": "code",
   "execution_count": 15,
   "id": "3d6b96d1",
   "metadata": {},
   "outputs": [
    {
     "name": "stdout",
     "output_type": "stream",
     "text": [
      "Found a total of 3509 workflows rejected after running in the grid resources\n",
      "╒═══════════════════╤═══════════════╤═════════════════╤════════════════╕\n",
      "│ status            │   mean (days) │   median (days) │   stdev (days) │\n",
      "╞═══════════════════╪═══════════════╪═════════════════╪════════════════╡\n",
      "│ normal-archived   │         36.83 │           13.34 │          43.12 │\n",
      "├───────────────────┼───────────────┼─────────────────┼────────────────┤\n",
      "│ aborted-archived  │         11.92 │            3.32 │          21.09 │\n",
      "├───────────────────┼───────────────┼─────────────────┼────────────────┤\n",
      "│ rejected-archived │          6.16 │            2.75 │          16.55 │\n",
      "╘═══════════════════╧═══════════════╧═════════════════╧════════════════╛\n"
     ]
    }
   ],
   "source": [
    "# while this object will contain final stats for workflows in a given status\n",
    "columnNames = [\"status\", \"mean (days)\", \"median (days)\", \"stdev (days)\"]\n",
    "wflowStats = {}\n",
    "daySecs = 24 * 3600\n",
    "for wf in normal_wfs:\n",
    "    wflowStats.setdefault(\"normal-archived\", [])\n",
    "    wflowStats[\"normal-archived\"].append(wf[\"Wallclocktime\"])\n",
    "for wf in aborted_wfs:\n",
    "    wflowStats.setdefault(\"aborted-archived\", [])\n",
    "    wflowStats[\"aborted-archived\"].append(wf[\"Wallclocktime\"])\n",
    "\n",
    "# variable to keep the number of workflows that was rejected after running in the grid\n",
    "# new -> assignment-approved -> assigned -> staging -> staged -> acquired -> running-open -> running-closed\n",
    "# completed -> ?rejected\n",
    "lateRejection = 0\n",
    "for wf in rejected_wfs:\n",
    "    wflowStats.setdefault(\"rejected-archived\", [])\n",
    "    wflowStats[\"rejected-archived\"].append(wf[\"Wallclocktime\"])\n",
    "    if len(wf[\"StatusDuration\"]) > 8:\n",
    "        lateRejection += 1\n",
    "print(f\"Found a total of {lateRejection} workflows rejected after running in the grid resources\")\n",
    "\n",
    "# now calculte mean, median and std deviation\n",
    "results = []\n",
    "for status, values in wflowStats.items():\n",
    "    thisStats = []\n",
    "    thisStats.append(status)\n",
    "    thisStats.append(round(statistics.mean(values) / daySecs, 2))\n",
    "    thisStats.append(round(statistics.median(values) / daySecs, 2))\n",
    "    thisStats.append(round(statistics.stdev(values) / daySecs, 2))\n",
    "    results.append(thisStats)\n",
    "\n",
    "#pprint(wflowStats)\n",
    "print(tabulate(results, headers=columnNames, tablefmt=\"fancy_grid\"))"
   ]
  },
  {
   "cell_type": "code",
   "execution_count": 17,
   "id": "e6c4a6f4",
   "metadata": {},
   "outputs": [
    {
     "name": "stdout",
     "output_type": "stream",
     "text": [
      "Standard workflows that reached normal-archived: 131047\n",
      "Recovery workflows that reached normal-archived: 21190\n",
      "╒═══════════════════╤═══════════════╤═════════════════╤════════════════╕\n",
      "│ status            │   mean (days) │   median (days) │   stdev (days) │\n",
      "╞═══════════════════╪═══════════════╪═════════════════╪════════════════╡\n",
      "│ **recovery normal │         16.36 │            7.12 │          28.35 │\n",
      "├───────────────────┼───────────────┼─────────────────┼────────────────┤\n",
      "│ **standard normal │         40.14 │           16.53 │          44.18 │\n",
      "╘═══════════════════╧═══════════════╧═════════════════╧════════════════╛\n"
     ]
    }
   ],
   "source": [
    "wflowStats = {}\n",
    "for wf in normal_wfs:\n",
    "    if wf['RequestType'] == 'Resubmission':\n",
    "            wflowStats.setdefault(\"**recovery normal\", [])\n",
    "            wflowStats[\"**recovery normal\"].append(wf[\"Wallclocktime\"])\n",
    "    else:\n",
    "        wflowStats.setdefault(\"**standard normal\", [])\n",
    "        wflowStats[\"**standard normal\"].append(wf[\"Wallclocktime\"])\n",
    "print(f\"Standard workflows that reached normal-archived: {len(wflowStats['**standard normal'])}\")\n",
    "print(f\"Recovery workflows that reached normal-archived: {len(wflowStats['**recovery normal'])}\")\n",
    "\n",
    "# now calculte mean, median and std deviation\n",
    "results = []\n",
    "for status, values in wflowStats.items():\n",
    "    thisStats = []\n",
    "    thisStats.append(status)\n",
    "    thisStats.append(round(statistics.mean(values) / daySecs, 2))\n",
    "    thisStats.append(round(statistics.median(values) / daySecs, 2))\n",
    "    thisStats.append(round(statistics.stdev(values) / daySecs, 2))\n",
    "    results.append(thisStats)\n",
    "\n",
    "#pprint(wflowStats)\n",
    "print(tabulate(results, headers=columnNames, tablefmt=\"fancy_grid\"))"
   ]
  },
  {
   "cell_type": "markdown",
   "id": "9b786636",
   "metadata": {},
   "source": [
    "## Grab some statistics for the normal-archived workflows (mean, median, stddev)"
   ]
  },
  {
   "cell_type": "code",
   "execution_count": 28,
   "id": "0be2aeaf",
   "metadata": {},
   "outputs": [
    {
     "name": "stdout",
     "output_type": "stream",
     "text": [
      "Workflow pdmvserv_task_SMP-RunIISummer20UL16wmLHEGENAPV-00395__v1_T_220402_125734_9831 has an invalid status: rejected\n",
      "Workflow haozturk_task_HIG-RunIISummer20UL16wmLHEGENAPV-03899__v1_T_220601_172532_7089 has an invalid status: rejected\n",
      "Workflow pdmvserv_task_HIG-RunIISummer20UL16wmLHEGEN-06204__v1_T_220607_111555_5126 has an invalid status: rejected\n",
      "Workflow pdmvserv_task_EXO-Run3Summer22wmLHEGS-00766__v1_T_230109_113601_2471 has an invalid status: rejected\n"
     ]
    }
   ],
   "source": [
    "ACTIVE_STATUS = [\"new\",\n",
    "                 \"assignment-approved\",\n",
    "                 \"assigned\",\n",
    "                 \"staging\",\n",
    "                 \"staged\",\n",
    "                 \"acquired\",\n",
    "                 \"running-open\",\n",
    "                 \"running-closed\",\n",
    "                 \"force-complete\",\n",
    "                 \"completed\",\n",
    "                 \"closed-out\",\n",
    "                 \"announced\"]\n",
    "\n",
    "# this object will contain all the absolute values for each workflow in each state\n",
    "wflowValues = {}\n",
    "for status in ACTIVE_STATUS:\n",
    "    wflowValues[status] = []\n",
    "for wflow in normal_wfs:\n",
    "    for statusDict in wflow[\"StatusDuration\"]:\n",
    "        try:\n",
    "            wflowValues[statusDict[\"Status\"]].append(statusDict[\"DurationSecs\"])\n",
    "        except KeyError:\n",
    "            print(f\"Workflow {wflow['RequestName']} has an invalid status: {statusDict['Status']}\")"
   ]
  },
  {
   "cell_type": "code",
   "execution_count": 29,
   "id": "c8106d15",
   "metadata": {},
   "outputs": [
    {
     "name": "stdout",
     "output_type": "stream",
     "text": [
      "╒═════════════════════╤═══════════════╤═════════════════╤════════════════╕\n",
      "│ status              │   mean (days) │   median (days) │   stdev (days) │\n",
      "╞═════════════════════╪═══════════════╪═════════════════╪════════════════╡\n",
      "│ new                 │          0.74 │            0    │           1.68 │\n",
      "├─────────────────────┼───────────────┼─────────────────┼────────────────┤\n",
      "│ assignment-approved │         10.23 │            0.05 │          24.39 │\n",
      "├─────────────────────┼───────────────┼─────────────────┼────────────────┤\n",
      "│ assigned            │          0.01 │            0    │           0.15 │\n",
      "├─────────────────────┼───────────────┼─────────────────┼────────────────┤\n",
      "│ staging             │          0.84 │            0.03 │           3.3  │\n",
      "├─────────────────────┼───────────────┼─────────────────┼────────────────┤\n",
      "│ staged              │          0.02 │            0.01 │           0.1  │\n",
      "├─────────────────────┼───────────────┼─────────────────┼────────────────┤\n",
      "│ acquired            │         11.67 │            0.06 │          28.46 │\n",
      "├─────────────────────┼───────────────┼─────────────────┼────────────────┤\n",
      "│ running-open        │          0.67 │            0.02 │           3.13 │\n",
      "├─────────────────────┼───────────────┼─────────────────┼────────────────┤\n",
      "│ running-closed      │          2.5  │            1.01 │           4.64 │\n",
      "├─────────────────────┼───────────────┼─────────────────┼────────────────┤\n",
      "│ force-complete      │          0.01 │            0.01 │           0.01 │\n",
      "├─────────────────────┼───────────────┼─────────────────┼────────────────┤\n",
      "│ completed           │          3.33 │            0.04 │          13    │\n",
      "├─────────────────────┼───────────────┼─────────────────┼────────────────┤\n",
      "│ closed-out          │          0.55 │            0.08 │           2.89 │\n",
      "├─────────────────────┼───────────────┼─────────────────┼────────────────┤\n",
      "│ announced           │          6.27 │            2.26 │          14.08 │\n",
      "╘═════════════════════╧═══════════════╧═════════════════╧════════════════╛\n"
     ]
    }
   ],
   "source": [
    "# while this object will contain final stats for workflows in a given status\n",
    "wflowStats = []\n",
    "daySecs = 24 * 3600\n",
    "for status in wflowValues:\n",
    "    thisStats = []\n",
    "    thisStats.append(status)\n",
    "    thisStats.append(round(statistics.mean(wflowValues[status]) / daySecs, 2))\n",
    "    thisStats.append(round(statistics.median(wflowValues[status]) / daySecs, 2))\n",
    "    thisStats.append(round(statistics.stdev(wflowValues[status]) / daySecs, 2))\n",
    "    wflowStats.append(thisStats)\n",
    "\n",
    "columnNames = [\"status\", \"mean (days)\", \"median (days)\", \"stdev (days)\"]\n",
    "print(tabulate(wflowStats, headers=columnNames, tablefmt=\"fancy_grid\"))"
   ]
  },
  {
   "cell_type": "markdown",
   "id": "f192c8af",
   "metadata": {},
   "source": [
    "## Create histogram for the workflow lifetime distribution"
   ]
  },
  {
   "cell_type": "code",
   "execution_count": 20,
   "id": "2d5d06bf",
   "metadata": {},
   "outputs": [],
   "source": [
    "import matplotlib.pyplot as plt\n",
    "import numpy as np\n",
    "from scipy.stats import norm"
   ]
  },
  {
   "cell_type": "code",
   "execution_count": 21,
   "id": "55b07bcc",
   "metadata": {},
   "outputs": [
    {
     "data": {
      "image/png": "[encoded data removed]",
      "text/plain": [
       "<Figure size 640x480 with 1 Axes>"
      ]
     },
     "metadata": {},
     "output_type": "display_data"
    }
   ],
   "source": [
    "norm_values = [wf[\"Wallclocktime\"] for wf in normal_wfs]\n",
    "norm_values_days = [round(totalSecs / daySecs, 2) for totalSecs in norm_values]\n",
    "\n",
    "mu_secs = round(statistics.mean(norm_values), 2)\n",
    "sigma_secs = round(statistics.stdev(norm_values), 2)\n",
    "mu_days = round(mu_secs / daySecs, 2)\n",
    "sigma_days = round(sigma_secs / daySecs, 2)\n",
    "\n",
    "# Creating histogram\n",
    "fig, ax = plt.subplots()\n",
    "ax.hist(norm_values_days, bins=50, color ='green')\n",
    "plt.xlim(0, 150) \n",
    "plt.title(f'Distribution of workflow lifetime for (mu = {mu_days}, sigma = {sigma_days})', fontsize='15')\n",
    "plt.xlabel('Total wallclocktime (days)', fontsize='15')\n",
    "plt.ylabel('Workflows', fontsize='15')\n",
    "\n",
    "# Show plot\n",
    "plt.show()"
   ]
  },
  {
   "cell_type": "code",
   "execution_count": 65,
   "id": "e8baa948",
   "metadata": {},
   "outputs": [
    {
     "name": "stdout",
     "output_type": "stream",
     "text": [
      "Overall normal-archived workflows with mean: 36.83 and stddev: 43.12\n",
      "  Rate of workflows within 0 sigma: 0.682\n",
      "  Rate of workflows within 1 sigma: 0.794\n",
      "  Rate of workflows within 2 sigma: 0.966\n",
      "  Rate of workflows within 3 sigma: 0.992\n"
     ]
    }
   ],
   "source": [
    "# calculate rate of workflows within a given sigma\n",
    "wfs_sigma = []\n",
    "print(f\"Overall normal-archived workflows with mean: {mu_days} and stddev: {sigma_days}\")\n",
    "for i in range(4):\n",
    "    sigma = mu_days + (i * sigma_days)\n",
    "    within_sigma = [item for item in norm_values_days if item <= sigma]\n",
    "    print(f\"  Rate of workflows within {i} sigma: {round(len(within_sigma)/len(norm_values_days), 3)}\")"
   ]
  },
  {
   "cell_type": "markdown",
   "id": "84df029a",
   "metadata": {},
   "source": [
    "## Trying a percentile plot now based on:\n",
    "https://matplotlib.org/mpl-probscale/tutorial/closer_look_at_viz.html"
   ]
  },
  {
   "cell_type": "code",
   "execution_count": 24,
   "id": "ce10ec51",
   "metadata": {},
   "outputs": [],
   "source": [
    "import warnings\n",
    "warnings.simplefilter('ignore')\n",
    "import seaborn\n",
    "import probscale\n",
    "clear_bkgd = {'axes.facecolor':'none', 'figure.facecolor':'none'}\n",
    "seaborn.set(style='ticks', context='talk', color_codes=True, rc=clear_bkgd)"
   ]
  },
  {
   "cell_type": "code",
   "execution_count": 71,
   "id": "141fcaec",
   "metadata": {},
   "outputs": [
    {
     "data": {
      "image/png": "[encoded data removed]",
      "text/plain": [
       "<Figure size 640x480 with 1 Axes>"
      ]
     },
     "metadata": {
      "needs_background": "light"
     },
     "output_type": "display_data"
    }
   ],
   "source": [
    "wflowStats = {}\n",
    "for wf in normal_wfs:\n",
    "    wflowStats.setdefault(\"normal-archived\", [])\n",
    "    wflowStats[\"normal-archived\"].append(round(wf[\"Wallclocktime\"] / daySecs, 2))\n",
    "    if wf['RequestType'] == 'Resubmission':\n",
    "            wflowStats.setdefault(\"**recovery normal\", [])\n",
    "            wflowStats[\"**recovery normal\"].append(round(wf[\"Wallclocktime\"] / daySecs, 2))\n",
    "    else:\n",
    "        wflowStats.setdefault(\"**standard normal\", [])\n",
    "        wflowStats[\"**standard normal\"].append(round(wf[\"Wallclocktime\"] / daySecs, 2))\n",
    "\n",
    "position, days = probscale.plot_pos(wflowStats[\"normal-archived\"])\n",
    "position *= 100\n",
    "fig, ax = plt.subplots()\n",
    "ax.plot(position, days, linewidth=3, label='normal-archived')\n",
    "#ax.plot(position, days, marker='.', linewidth=1, label='normal-archived')\n",
    "\n",
    "position, days = probscale.plot_pos(wflowStats[\"**standard normal\"])\n",
    "position *= 100\n",
    "ax.plot(position, days, linewidth=3, label='**standard normal')\n",
    "\n",
    "position, days = probscale.plot_pos(wflowStats[\"**recovery normal\"])\n",
    "position *= 100\n",
    "ax.plot(position, days, linewidth=3, label='**recovery normal')\n",
    "\n",
    "plt.grid(visible=True, which='major', axis='both', linestyle='--')\n",
    "ax.set_xlabel('Percentile')\n",
    "ax.set_ylabel('Total wallclocktime (days)')\n",
    "ax.set_ylim(bottom=0, top=180)\n",
    "ax.legend()\n",
    "seaborn.despine()"
   ]
  },
  {
   "cell_type": "code",
   "execution_count": 70,
   "id": "d8b4e4f6",
   "metadata": {},
   "outputs": [
    {
     "name": "stdout",
     "output_type": "stream",
     "text": [
      "Overall standard normal workflows with mean: 40.14 and stddev: 44.18\n",
      "  Rate of workflows within 0 sigma: 0.657\n",
      "  Rate of workflows within 1 sigma: 0.784\n",
      "  Rate of workflows within 2 sigma: 0.97\n",
      "  Rate of workflows within 3 sigma: 0.992\n",
      "\n",
      "Overall recovery normal workflows with mean: 16.36 and stddev: 28.35\n",
      "  Rate of workflows within 0 sigma: 0.767\n",
      "  Rate of workflows within 1 sigma: 0.917\n",
      "  Rate of workflows within 2 sigma: 0.955\n",
      "  Rate of workflows within 3 sigma: 0.979\n"
     ]
    }
   ],
   "source": [
    "# calculate rate of workflows within a given sigma\n",
    "mu_days = round(statistics.mean(wflowStats[\"**standard normal\"]), 2)\n",
    "sigma_days = round(statistics.stdev(wflowStats[\"**standard normal\"]), 2)\n",
    "wfs_sigma = []\n",
    "print(f\"Overall standard normal workflows with mean: {mu_days} and stddev: {sigma_days}\")\n",
    "for i in range(4):\n",
    "    sigma = mu_days + (i * sigma_days)\n",
    "    within_sigma = [item for item in wflowStats[\"**standard normal\"] if item <= sigma]\n",
    "    print(f\"  Rate of workflows within {i} sigma: {round(len(within_sigma)/len(wflowStats['**standard normal']), 3)}\")\n",
    "\n",
    "# calculate rate of workflows within a given sigma\n",
    "mu_days = round(statistics.mean(wflowStats[\"**recovery normal\"]), 2)\n",
    "sigma_days = round(statistics.stdev(wflowStats[\"**recovery normal\"]), 2)\n",
    "wfs_sigma = []\n",
    "print(f\"\\nOverall recovery normal workflows with mean: {mu_days} and stddev: {sigma_days}\")\n",
    "for i in range(4):\n",
    "    sigma = mu_days + (i * sigma_days)\n",
    "    within_sigma = [item for item in wflowStats[\"**recovery normal\"] if item <= sigma]\n",
    "    print(f\"  Rate of workflows within {i} sigma: {round(len(within_sigma)/len(wflowStats['**recovery normal']), 3)}\")"
   ]
  },
  {
   "cell_type": "code",
   "execution_count": null,
   "id": "12fac3c3",
   "metadata": {},
   "outputs": [],
   "source": []
  }
 ],
 "metadata": {
  "kernelspec": {
   "display_name": "Python 3 (ipykernel)",
   "language": "python",
   "name": "python3"
  },
  "language_info": {
   "codemirror_mode": {
    "name": "ipython",
    "version": 3
   },
   "file_extension": ".py",
   "mimetype": "text/x-python",
   "name": "python",
   "nbconvert_exporter": "python",
   "pygments_lexer": "ipython3",
   "version": "3.10.5"
  }
 },
 "nbformat": 4,
 "nbformat_minor": 5
}
